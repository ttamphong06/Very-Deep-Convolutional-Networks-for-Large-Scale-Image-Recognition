{
 "cells": [
  {
   "cell_type": "code",
   "execution_count": 3,
   "metadata": {},
   "outputs": [
    {
     "name": "stdout",
     "output_type": "stream",
     "text": [
      "Collecting pandas==0.24.1\n",
      "  Downloading https://files.pythonhosted.org/packages/61/f4/4ede3085c0f11c3a4f27fb97d9937b8847003bf8aa737df07cdf9600d8b2/pandas-0.24.1-cp37-cp37m-win_amd64.whl (9.0MB)\n",
      "Requirement not upgraded as not directly required: pytz>=2011k in c:\\programdata\\anaconda3\\lib\\site-packages (from pandas==0.24.1) (2018.5)\n",
      "Requirement not upgraded as not directly required: python-dateutil>=2.5.0 in c:\\programdata\\anaconda3\\lib\\site-packages (from pandas==0.24.1) (2.7.3)\n",
      "Requirement not upgraded as not directly required: numpy>=1.12.0 in c:\\programdata\\anaconda3\\lib\\site-packages (from pandas==0.24.1) (1.15.1)\n",
      "Requirement not upgraded as not directly required: six>=1.5 in c:\\programdata\\anaconda3\\lib\\site-packages (from python-dateutil>=2.5.0->pandas==0.24.1) (1.11.0)\n",
      "Installing collected packages: pandas\n",
      "  Found existing installation: pandas 0.23.4\n",
      "    Uninstalling pandas-0.23.4:\n"
     ]
    },
    {
     "name": "stderr",
     "output_type": "stream",
     "text": [
      "twisted 18.7.0 requires PyHamcrest>=1.9.0, which is not installed.\n",
      "Could not install packages due to an EnvironmentError: [WinError 5] Access is denied: 'c:\\\\programdata\\\\anaconda3\\\\lib\\\\site-packages\\\\pandas\\\\api\\\\extensions\\\\__init__.py'\n",
      "Consider using the `--user` option or check the permissions.\n",
      "\n",
      "You are using pip version 10.0.1, however version 24.0 is available.\n",
      "You should consider upgrading via the 'python -m pip install --upgrade pip' command.\n"
     ]
    }
   ],
   "source": [
    "#!pip install matplotlib==3.1.0 --upgrade\n",
    "#!pip install torchvision==0.2.1 --upgrade\n",
    "#!pip install torch==0.4.0 --upgrade\n",
    "#!pip install scikit_plot==0.3.7 --upgrade\n",
    "#!pip install scikit_learn==0.21.3 --upgrade\n",
    "!pip install pandas==0.24.1 --upgrade"
   ]
  },
  {
   "cell_type": "code",
   "execution_count": 2,
   "metadata": {},
   "outputs": [
    {
     "name": "stdout",
     "output_type": "stream",
     "text": [
      "\n",
      "The following command must be run outside of the IPython shell:\n",
      "\n",
      "    $ pip install pandas\n",
      "\n",
      "The Python package manager (pip) can only be used from outside of IPython.\n",
      "Please reissue the `pip` command in a separate terminal or command prompt.\n",
      "\n",
      "See the Python documentation for more information on how to install packages:\n",
      "\n",
      "    https://docs.python.org/3/installing/\n"
     ]
    }
   ],
   "source": [
    "pip install pandas"
   ]
  },
  {
   "cell_type": "code",
   "execution_count": 5,
   "metadata": {},
   "outputs": [
    {
     "name": "stdout",
     "output_type": "stream",
     "text": [
      "Name: pandas\n",
      "Version: 0.23.4\n",
      "Summary: Powerful data structures for data analysis, time series, and statistics\n",
      "Home-page: http://pandas.pydata.org\n",
      "Author: None\n",
      "Author-email: None\n",
      "License: BSD\n",
      "Location: c:\\programdata\\anaconda3\\lib\\site-packages\n",
      "Requires: python-dateutil, pytz, numpy\n",
      "Required-by: seaborn, odo\n"
     ]
    },
    {
     "name": "stderr",
     "output_type": "stream",
     "text": [
      "You are using pip version 10.0.1, however version 24.0 is available.\n",
      "You should consider upgrading via the 'python -m pip install --upgrade pip' command.\n"
     ]
    }
   ],
   "source": [
    "#!pip show torchvision\n",
    "#!pip show matplotlib\n",
    "#!pip show numpy\n",
    "#!pip show torch\n",
    "#!pip show scikit-learn\n",
    "!pip show pandas"
   ]
  },
  {
   "cell_type": "code",
   "execution_count": 1,
   "metadata": {},
   "outputs": [],
   "source": [
    "import pandas as pd"
   ]
  },
  {
   "cell_type": "code",
   "execution_count": 17,
   "metadata": {},
   "outputs": [],
   "source": [
    "!python train.py -d 11 -e 50 -es 5 -b 64 "
   ]
  },
  {
   "cell_type": "code",
   "execution_count": 8,
   "metadata": {},
   "outputs": [
    {
     "name": "stdout",
     "output_type": "stream",
     "text": [
      "torch.Size([64, 3, 64, 64])\n",
      "Iter: [1/16]\n",
      "Iter: [2/16]\n",
      "Iter: [3/16]\n",
      "Iter: [4/16]\n",
      "Iter: [5/16]\n",
      "Iter: [6/16]\n",
      "Iter: [7/16]\n",
      "Iter: [8/16]\n",
      "Iter: [9/16]\n",
      "Iter: [10/16]\n",
      "Iter: [11/16]\n",
      "Iter: [12/16]\n",
      "Iter: [13/16]\n",
      "Iter: [14/16]\n",
      "Iter: [15/16]\n",
      "Iter: [16/16]\n"
     ]
    },
    {
     "name": "stderr",
     "output_type": "stream",
     "text": [
      "c:\\ProgramData\\Anaconda3\\lib\\site-packages\\torchvision\\transforms\\transforms.py:187: UserWarning: The use of the transforms.Scale transform is deprecated, please use transforms.Resize instead.\n",
      "  warnings.warn(\"The use of the transforms.Scale transform is deprecated, \" +\n",
      "Traceback (most recent call last):\n",
      "  File \"test.py\", line 88, in <module>\n",
      "    images, pred = sample.images.to_list(), sample.class_pred.to_list()\n",
      "  File \"c:\\ProgramData\\Anaconda3\\lib\\site-packages\\pandas\\core\\generic.py\", line 4376, in __getattr__\n",
      "    return object.__getattribute__(self, name)\n",
      "AttributeError: 'Series' object has no attribute 'to_list'\n"
     ]
    }
   ],
   "source": [
    "!python test.py -b 64  -m 11"
   ]
  }
 ],
 "metadata": {
  "kernelspec": {
   "display_name": "Python 3",
   "language": "python",
   "name": "python3"
  },
  "language_info": {
   "codemirror_mode": {
    "name": "ipython",
    "version": 3
   },
   "file_extension": ".py",
   "mimetype": "text/x-python",
   "name": "python",
   "nbconvert_exporter": "python",
   "pygments_lexer": "ipython3",
   "version": "3.7.0"
  }
 },
 "nbformat": 4,
 "nbformat_minor": 2
}
